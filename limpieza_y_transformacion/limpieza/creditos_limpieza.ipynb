{
 "cells": [
  {
   "cell_type": "code",
   "execution_count": 1,
   "metadata": {},
   "outputs": [],
   "source": [
    "import pandas as pd\n",
    "import ast"
   ]
  },
  {
   "cell_type": "code",
   "execution_count": 2,
   "metadata": {},
   "outputs": [],
   "source": [
    "ruta_dataset = \"./credits.csv\"\n",
    "df = pd.read_csv(ruta_dataset)"
   ]
  },
  {
   "cell_type": "code",
   "execution_count": 3,
   "metadata": {},
   "outputs": [],
   "source": [
    "# Función para extraer nombres de los actores\n",
    "def get_actor_names(cast_column):\n",
    "    try:\n",
    "        cast_list = ast.literal_eval(cast_column)  # Convertir cadena JSON a lista\n",
    "        return \", \".join([member['name'] for member in cast_list if 'name' in member])\n",
    "    except (ValueError, SyntaxError):\n",
    "        return None"
   ]
  },
  {
   "cell_type": "code",
   "execution_count": 4,
   "metadata": {},
   "outputs": [],
   "source": [
    "# Función para extraer el nombre del director\n",
    "def get_director_name(crew_column):\n",
    "    try:\n",
    "        crew_list = ast.literal_eval(crew_column)  # Convertir cadena JSON a lista\n",
    "        for member in crew_list:\n",
    "            if member.get('job') == 'Director':\n",
    "                return member.get('name')\n",
    "        return None\n",
    "    except (ValueError, SyntaxError):\n",
    "        return None"
   ]
  },
  {
   "cell_type": "code",
   "execution_count": 5,
   "metadata": {},
   "outputs": [],
   "source": [
    "# Crear las nuevas columnas\n",
    "df['actor_names'] = df['cast'].apply(get_actor_names)\n",
    "df['director_name'] = df['crew'].apply(get_director_name)\n",
    "# Crear el nuevo dataset con las columnas deseadas\n",
    "new_df = df[['id', 'actor_names', 'director_name']]"
   ]
  },
  {
   "cell_type": "code",
   "execution_count": 6,
   "metadata": {},
   "outputs": [
    {
     "name": "stdout",
     "output_type": "stream",
     "text": [
      "Nuevo dataset creado y guardado como 'creditos_dataset_final.csv'\n"
     ]
    }
   ],
   "source": [
    "# Guardar el nuevo dataset a un archivo CSV\n",
    "new_df.to_csv(\"creditos_dataset_final.csv\", index=False)\n",
    "print(\"Nuevo dataset creado y guardado como 'creditos_dataset_final.csv'\")"
   ]
  }
 ],
 "metadata": {
  "kernelspec": {
   "display_name": "Python 3",
   "language": "python",
   "name": "python3"
  },
  "language_info": {
   "codemirror_mode": {
    "name": "ipython",
    "version": 3
   },
   "file_extension": ".py",
   "mimetype": "text/x-python",
   "name": "python",
   "nbconvert_exporter": "python",
   "pygments_lexer": "ipython3",
   "version": "3.12.3"
  }
 },
 "nbformat": 4,
 "nbformat_minor": 2
}
