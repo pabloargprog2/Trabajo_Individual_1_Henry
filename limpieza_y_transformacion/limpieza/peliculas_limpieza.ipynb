{
 "cells": [
  {
   "cell_type": "code",
   "execution_count": 1,
   "metadata": {},
   "outputs": [
    {
     "name": "stderr",
     "output_type": "stream",
     "text": [
      "C:\\Users\\User\\AppData\\Local\\Temp\\ipykernel_5276\\2908874164.py:3: DtypeWarning: Columns (10) have mixed types. Specify dtype option on import or set low_memory=False.\n",
      "  df = pd.read_csv(ruta_dataset)\n"
     ]
    }
   ],
   "source": [
    "import pandas as pd\n",
    "ruta_dataset = \"./movies_dataset.csv\"\n",
    "df = pd.read_csv(ruta_dataset)"
   ]
  },
  {
   "cell_type": "code",
   "execution_count": 2,
   "metadata": {},
   "outputs": [
    {
     "name": "stdout",
     "output_type": "stream",
     "text": [
      "<class 'pandas.core.frame.DataFrame'>\n",
      "RangeIndex: 45466 entries, 0 to 45465\n",
      "Data columns (total 24 columns):\n",
      " #   Column                 Non-Null Count  Dtype  \n",
      "---  ------                 --------------  -----  \n",
      " 0   adult                  45466 non-null  object \n",
      " 1   belongs_to_collection  4494 non-null   object \n",
      " 2   budget                 45466 non-null  object \n",
      " 3   genres                 45466 non-null  object \n",
      " 4   homepage               7782 non-null   object \n",
      " 5   id                     45466 non-null  object \n",
      " 6   imdb_id                45449 non-null  object \n",
      " 7   original_language      45455 non-null  object \n",
      " 8   original_title         45466 non-null  object \n",
      " 9   overview               44512 non-null  object \n",
      " 10  popularity             45461 non-null  object \n",
      " 11  poster_path            45080 non-null  object \n",
      " 12  production_companies   45463 non-null  object \n",
      " 13  production_countries   45463 non-null  object \n",
      " 14  release_date           45379 non-null  object \n",
      " 15  revenue                45460 non-null  float64\n",
      " 16  runtime                45203 non-null  float64\n",
      " 17  spoken_languages       45460 non-null  object \n",
      " 18  status                 45379 non-null  object \n",
      " 19  tagline                20412 non-null  object \n",
      " 20  title                  45460 non-null  object \n",
      " 21  video                  45460 non-null  object \n",
      " 22  vote_average           45460 non-null  float64\n",
      " 23  vote_count             45460 non-null  float64\n",
      "dtypes: float64(4), object(20)\n",
      "memory usage: 8.3+ MB\n"
     ]
    }
   ],
   "source": [
    "df.info()"
   ]
  },
  {
   "cell_type": "code",
   "execution_count": 3,
   "metadata": {},
   "outputs": [],
   "source": [
    "#eliminacion columnas solicitadas\n",
    "columnas_a_eliminar = ['video', 'imdb_id', 'adult', 'original_title', 'poster_path', 'homepage']\n",
    "df = df.drop(columns=columnas_a_eliminar)"
   ]
  },
  {
   "cell_type": "code",
   "execution_count": 4,
   "metadata": {},
   "outputs": [
    {
     "name": "stdout",
     "output_type": "stream",
     "text": [
      "revenue    0\n",
      "budget     0\n",
      "dtype: int64\n"
     ]
    }
   ],
   "source": [
    "#rellenar con 0 en las columnas solicitadas\n",
    "df[['revenue', 'budget']] = df[['revenue', 'budget']].fillna(0)\n",
    "print(df[['revenue', 'budget']].isnull().sum())"
   ]
  },
  {
   "cell_type": "code",
   "execution_count": 5,
   "metadata": {},
   "outputs": [],
   "source": [
    "#eliminacion de valores nulos de la columna solicitada\n",
    "df = df.dropna(subset=['release_date'])"
   ]
  },
  {
   "cell_type": "code",
   "execution_count": 6,
   "metadata": {},
   "outputs": [],
   "source": [
    "# Convertir 'revenue' y 'budget' a numérico, reemplazando valores no válidos con NaN\n",
    "df['revenue'] = pd.to_numeric(df['revenue'], errors='coerce')\n",
    "df['budget'] = pd.to_numeric(df['budget'], errors='coerce')\n",
    "\n",
    "# Crear la columna 'return' con revenue / budget, asignando 0 donde no se pueda calcular\n",
    "df['return'] = df.apply(lambda row: row['revenue'] / row['budget'] \n",
    "                        if pd.notna(row['budget']) and row['budget'] > 0 \n",
    "                        else 0, axis=1)"
   ]
  },
  {
   "cell_type": "code",
   "execution_count": 7,
   "metadata": {},
   "outputs": [],
   "source": [
    "# Asegurarse de que la columna 'release_date' esté en formato de fecha (AAAA-mm-dd)\n",
    "df['release_date'] = pd.to_datetime(df['release_date'], errors='coerce')"
   ]
  },
  {
   "cell_type": "code",
   "execution_count": 8,
   "metadata": {},
   "outputs": [],
   "source": [
    "# Eliminar valores nulos en 'release_date' (fechas no válidas)\n",
    "df = df.dropna(subset=['release_date'])"
   ]
  },
  {
   "cell_type": "code",
   "execution_count": 9,
   "metadata": {},
   "outputs": [
    {
     "name": "stdout",
     "output_type": "stream",
     "text": [
      "  release_date  release_year\n",
      "0   1995-10-30          1995\n",
      "1   1995-12-15          1995\n",
      "2   1995-12-22          1995\n",
      "3   1995-12-22          1995\n",
      "4   1995-02-10          1995\n"
     ]
    }
   ],
   "source": [
    "# Crear la columna 'release_year' extrayendo el año de la fecha de estreno\n",
    "df['release_year'] = df['release_date'].dt.year\n",
    "\n",
    "# Verificar los resultados\n",
    "print(df[['release_date', 'release_year']].head())"
   ]
  },
  {
   "cell_type": "code",
   "execution_count": 10,
   "metadata": {},
   "outputs": [],
   "source": [
    "#desanidar columna belongs_to_collection\n",
    "import ast\n",
    "def extract_collection_info(row):\n",
    "    \n",
    "    if pd.isna(row):\n",
    "        return None, None\n",
    "    try:\n",
    "        collection = ast.literal_eval(row) if isinstance(row, str) else row\n",
    "        if isinstance(collection, dict):\n",
    "            return collection.get('id'), collection.get('name')\n",
    "    except (ValueError, SyntaxError):\n",
    "        return None, None"
   ]
  },
  {
   "cell_type": "code",
   "execution_count": 11,
   "metadata": {},
   "outputs": [],
   "source": [
    "# Aplicar la función\n",
    "df[['collection_id', 'collection_name']] = df['belongs_to_collection'].apply(\n",
    "    extract_collection_info).apply(pd.Series)\n",
    "#desanidar columna production_companies\n",
    "def extract_company_names(row):\n",
    "    if pd.isna(row):\n",
    "        return None\n",
    "    try:\n",
    "        companies = ast.literal_eval(row) if isinstance(row, str) else row\n",
    "        if isinstance(companies, list):\n",
    "            return [company.get('name') for company in companies if isinstance(company, dict) and 'name' in company]\n",
    "    except (ValueError, SyntaxError):\n",
    "        return None"
   ]
  },
  {
   "cell_type": "code",
   "execution_count": 12,
   "metadata": {},
   "outputs": [],
   "source": [
    "# Aplicar la función\n",
    "df['production_company_names'] = df['production_companies'].apply(extract_company_names)\n",
    "#desanidar columna genres\n",
    "def extract_genre_names(row):\n",
    "    if pd.isna(row):\n",
    "        return None\n",
    "    try:\n",
    "        genres = ast.literal_eval(row) if isinstance(row, str) else row\n",
    "        if isinstance(genres, list):\n",
    "            return [genre.get('name') for genre in genres if isinstance(genre, dict) and 'name' in genre]\n",
    "    except (ValueError, SyntaxError):\n",
    "        return None"
   ]
  },
  {
   "cell_type": "code",
   "execution_count": 13,
   "metadata": {},
   "outputs": [],
   "source": [
    "# Aplicar la función a la columna 'genres'\n",
    "df['genre_names'] = df['genres'].apply(extract_genre_names)"
   ]
  },
  {
   "cell_type": "code",
   "execution_count": 14,
   "metadata": {},
   "outputs": [
    {
     "name": "stdout",
     "output_type": "stream",
     "text": [
      "Archivo CSV guardado exitosamente como 'movies_dataset_final.csv'.\n"
     ]
    }
   ],
   "source": [
    "# Guardar el DataFrame en un archivo CSV\n",
    "df.to_csv(\"movies_dataset_final.csv\", index=False)\n",
    "\n",
    "print(\"Archivo CSV guardado exitosamente como 'movies_dataset_final.csv'.\")"
   ]
  }
 ],
 "metadata": {
  "kernelspec": {
   "display_name": "Python 3",
   "language": "python",
   "name": "python3"
  },
  "language_info": {
   "codemirror_mode": {
    "name": "ipython",
    "version": 3
   },
   "file_extension": ".py",
   "mimetype": "text/x-python",
   "name": "python",
   "nbconvert_exporter": "python",
   "pygments_lexer": "ipython3",
   "version": "3.12.3"
  }
 },
 "nbformat": 4,
 "nbformat_minor": 2
}
