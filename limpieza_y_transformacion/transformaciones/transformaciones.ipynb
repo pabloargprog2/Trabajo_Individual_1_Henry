{
 "cells": [
  {
   "cell_type": "code",
   "execution_count": 1,
   "metadata": {},
   "outputs": [],
   "source": [
    "import pandas as pd"
   ]
  },
  {
   "cell_type": "code",
   "execution_count": 2,
   "metadata": {},
   "outputs": [],
   "source": [
    "dataset_creditos = pd.read_csv(\"./creditos_dataset_final.csv\")\n",
    "dataset_peliculas = pd.read_csv(\"./movies_dataset_final.csv\")"
   ]
  },
  {
   "cell_type": "code",
   "execution_count": 3,
   "metadata": {},
   "outputs": [
    {
     "name": "stdout",
     "output_type": "stream",
     "text": [
      "Dataset combinado guardado como 'dataset.csv'.\n"
     ]
    }
   ],
   "source": [
    "merged_dataset = pd.merge(dataset_peliculas, dataset_creditos, on=\"id\", how=\"inner\")\n",
    "merged_dataset.to_csv(\"./dataset.csv\", index=False)\n",
    "print(\"Dataset combinado guardado como 'dataset.csv'.\")"
   ]
  },
  {
   "cell_type": "code",
   "execution_count": 4,
   "metadata": {},
   "outputs": [],
   "source": [
    "dataset= pd.read_csv(\"./dataset.csv\")"
   ]
  },
  {
   "cell_type": "code",
   "execution_count": 5,
   "metadata": {},
   "outputs": [],
   "source": [
    "# Eliminar columnas específicas\n",
    "columnas_a_eliminar = [\"original_language\", \"production_countries\", \"runtime\", \"spoken_languages\", \"status\", \"tagline\", \"collection_id\",\"collection_name\", \"production_company_names\"]\n",
    "dataset_final = dataset.drop(columns=columnas_a_eliminar)\n",
    "\n",
    "# Guardar el nuevo dataset en un archivo CSV\n",
    "dataset_final.to_csv('dataset_final.csv', index=False)"
   ]
  },
  {
   "cell_type": "code",
   "execution_count": 6,
   "metadata": {},
   "outputs": [],
   "source": [
    "columnas_seleccionadas = ['release_date', 'title', 'release_year', \"vote_average\", \"vote_count\"]\n",
    "dataset_funciones_basicas = dataset[columnas_seleccionadas]\n",
    "dataset_funciones_basicas.to_csv('dataset_funciones_basicas.csv', index=False)"
   ]
  },
  {
   "cell_type": "code",
   "execution_count": 7,
   "metadata": {},
   "outputs": [],
   "source": [
    "columnas_seleccionadass = ['id', 'title', 'return', \"actor_names\", \"director_name\", \"revenue\", \"budget\", \"release_date\"]\n",
    "dataset_actor_director = dataset_final[columnas_seleccionadass]\n",
    "dataset_actor_director.to_csv('dataset_actor_director.csv', index=False)"
   ]
  },
  {
   "cell_type": "code",
   "execution_count": 8,
   "metadata": {},
   "outputs": [],
   "source": [
    "columnas_seleccionadasss = ['vote_average', 'title', 'vote_count', \"popularity\", \"overview\", \"genre_names\"]\n",
    "dataset_modelo = dataset_final[columnas_seleccionadasss]\n",
    "dataset_modelo.to_csv('dataset_modelo.csv', index=False)"
   ]
  }
 ],
 "metadata": {
  "kernelspec": {
   "display_name": "Python 3",
   "language": "python",
   "name": "python3"
  },
  "language_info": {
   "codemirror_mode": {
    "name": "ipython",
    "version": 3
   },
   "file_extension": ".py",
   "mimetype": "text/x-python",
   "name": "python",
   "nbconvert_exporter": "python",
   "pygments_lexer": "ipython3",
   "version": "3.12.3"
  }
 },
 "nbformat": 4,
 "nbformat_minor": 2
}
